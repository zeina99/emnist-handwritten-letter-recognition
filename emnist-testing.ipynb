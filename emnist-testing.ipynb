{
 "cells": [
  {
   "cell_type": "markdown",
   "metadata": {},
   "source": [
    "# Testing with real handwritten images"
   ]
  },
  {
   "cell_type": "code",
   "execution_count": 5,
   "metadata": {},
   "outputs": [],
   "source": [
    "import tensorflow as tf\n",
    "import numpy as np"
   ]
  },
  {
   "cell_type": "code",
   "execution_count": 2,
   "metadata": {},
   "outputs": [
    {
     "name": "stderr",
     "output_type": "stream",
     "text": [
      "2021-12-05 18:15:41.038153: I tensorflow/core/platform/cpu_feature_guard.cc:151] This TensorFlow binary is optimized with oneAPI Deep Neural Network Library (oneDNN) to use the following CPU instructions in performance-critical operations:  AVX2 FMA\n",
      "To enable them in other operations, rebuild TensorFlow with the appropriate compiler flags.\n"
     ]
    }
   ],
   "source": [
    "# loading the trained model \n",
    "final_model = tf.keras.models.load_model('final_model')"
   ]
  },
  {
   "cell_type": "code",
   "execution_count": 4,
   "metadata": {},
   "outputs": [
    {
     "data": {
      "image/png": "[encoded data removed]",
      "text/plain": [
       "<Figure size 432x288 with 1 Axes>"
      ]
     },
     "metadata": {
      "needs_background": "light"
     },
     "output_type": "display_data"
    }
   ],
   "source": [
    "# here we will load an image from the images folder just to display the manually drawn letters\n",
    "import PIL\n",
    "\n",
    "from PIL import Image\n",
    "img = Image.open('images/letter 1.png').convert('L')\n",
    "\n",
    "# load and display an image with Matplotlib\n",
    "from matplotlib import image\n",
    "from matplotlib import pyplot\n",
    "# load image as pixel array\n",
    "image = image.imread('images/letter 1.png')\n",
    "# display the array of pixels as an image\n",
    "pyplot.imshow(img, cmap=pyplot.cm.binary_r, vmin = 0, vmax = 255)\n",
    "pyplot.show()"
   ]
  },
  {
   "cell_type": "code",
   "execution_count": 6,
   "metadata": {},
   "outputs": [
    {
     "data": {
      "text/plain": [
       "array([[223, 170, 190, 246, 242, 244, 243, 252, 251, 250, 250, 250, 254,\n",
       "        255, 255, 255, 251, 250, 243, 247, 255, 255, 255, 250, 253, 239,\n",
       "        176, 171],\n",
       "       [179, 129, 148, 200, 193, 192, 189, 196, 195, 189, 186, 186, 191,\n",
       "        198, 201, 198, 194, 210, 199, 203, 225, 232, 219, 211, 216, 233,\n",
       "        180, 177],\n",
       "       [203, 129, 149, 204, 198, 197, 192, 196, 192, 175, 170, 166, 168,\n",
       "        174, 178, 177, 174, 178, 156, 145, 154, 159, 154, 159, 173, 185,\n",
       "        136, 132],\n",
       "       [246, 172, 195, 253, 252, 252, 247, 251, 246, 241, 236, 231, 229,\n",
       "        231, 232, 232, 230, 240, 223, 213, 215, 216, 210, 213, 223, 209,\n",
       "        157, 154],\n",
       "       [243, 171, 195, 255, 255, 255, 252, 255, 251, 255, 255, 255, 255,\n",
       "        255, 255, 254, 253, 255, 255, 255, 255, 255, 251, 247, 248, 243,\n",
       "        184, 181],\n",
       "       [244, 173, 196, 255, 254, 255, 251, 254, 250, 250, 253, 255, 255,\n",
       "        255, 255, 255, 255, 252, 254, 254, 253, 252, 254, 255, 255, 239,\n",
       "        171, 167],\n",
       "       [242, 161, 198, 255, 254, 251, 253, 255, 254, 255, 255, 241, 255,\n",
       "        255, 255, 253, 255, 255, 255, 255, 255, 255, 255, 255, 255, 246,\n",
       "        175, 175],\n",
       "       [240, 168, 197, 255, 250, 249, 249, 255, 249, 241, 255, 255, 255,\n",
       "        255, 252, 255, 246, 255, 255, 255, 255, 255, 255, 255, 255, 248,\n",
       "        175, 175],\n",
       "       [238, 165, 191, 253, 254, 255, 255, 255, 255, 255, 255, 247, 243,\n",
       "        255, 244, 255, 255, 255, 255, 255, 255, 255, 255, 255, 255, 249,\n",
       "        176, 175],\n",
       "       [235, 161, 189, 255, 255, 255, 255, 255, 255, 255, 255, 255, 255,\n",
       "        254, 246, 255, 250, 255, 255, 255, 255, 255, 255, 255, 255, 250,\n",
       "        177, 175],\n",
       "       [232, 168, 196, 255, 255, 254, 247, 252, 250, 255, 255, 235, 230,\n",
       "        158, 204, 253, 252, 255, 255, 255, 255, 255, 255, 255, 255, 249,\n",
       "        176, 175],\n",
       "       [229, 171, 201, 255, 251, 250, 254, 255, 255, 251, 181, 135, 155,\n",
       "         59, 135, 235, 255, 255, 255, 255, 255, 255, 255, 255, 255, 246,\n",
       "        174, 175],\n",
       "       [226, 165, 199, 255, 250, 255, 255, 255, 235, 169, 106, 123, 170,\n",
       "         57, 118, 234, 245, 255, 255, 255, 255, 255, 255, 255, 255, 243,\n",
       "        173, 174],\n",
       "       [225, 161, 199, 255, 252, 255, 255, 233, 187,  98, 128, 221, 209,\n",
       "         54, 132, 255, 245, 255, 255, 255, 255, 255, 255, 255, 255, 241,\n",
       "        171, 174],\n",
       "       [237, 147, 199, 245, 255, 255, 250, 216,  71, 101, 239, 243, 200,\n",
       "         73, 149, 250, 255, 253, 255, 255, 254, 254, 255, 255, 252, 232,\n",
       "        163, 168],\n",
       "       [235, 159, 202, 254, 255, 255, 251, 156,  64, 177, 255, 253, 160,\n",
       "         18, 143, 255, 255, 252, 255, 255, 252, 251, 254, 255, 255, 233,\n",
       "        164, 169],\n",
       "       [233, 159, 196, 255, 254, 250, 233,  86,  84, 239, 255, 255, 142,\n",
       "         19, 180, 255, 234, 255, 255, 255, 255, 255, 252, 253, 255, 234,\n",
       "        166, 171],\n",
       "       [234, 152, 191, 254, 251, 255, 191,  56, 147, 255, 246, 244, 119,\n",
       "         41, 225, 255, 255, 255, 253, 253, 255, 255, 254, 250, 251, 235,\n",
       "        168, 174],\n",
       "       [236, 152, 198, 255, 252, 255, 143,  57, 203, 255, 255, 247,  98,\n",
       "         58, 239, 252, 251, 255, 250, 247, 252, 255, 255, 255, 254, 237,\n",
       "        171, 177],\n",
       "       [237, 152, 204, 255, 250, 255, 118,  52, 197, 236, 231, 179,  50,\n",
       "         63, 245, 255, 249, 255, 255, 255, 253, 252, 255, 255, 255, 238,\n",
       "        173, 179],\n",
       "       [236, 148, 200, 251, 250, 253, 143,  44, 148, 172, 126,  79,  42,\n",
       "         73, 203, 249, 255, 229, 252, 255, 255, 251, 255, 255, 254, 239,\n",
       "        174, 181],\n",
       "       [233, 145, 197, 253, 255, 255, 187,  44, 111,  95,  55,  88, 151,\n",
       "        125, 119, 140, 155, 164, 212, 253, 255, 251, 255, 255, 255, 240,\n",
       "        175, 182],\n",
       "       [226, 151, 197, 255, 254, 253, 215, 116,  97,  76,  77, 163, 239,\n",
       "        190, 110,  95, 108, 150, 215, 255, 255, 252, 255, 255, 252, 235,\n",
       "        167, 194],\n",
       "       [223, 149, 192, 255, 255, 255, 243, 184, 181, 182, 204, 243, 255,\n",
       "        241, 206, 196, 203, 226, 255, 255, 251, 250, 255, 255, 255, 243,\n",
       "        166, 189],\n",
       "       [226, 163, 199, 255, 255, 253, 255, 249, 255, 236, 255, 255, 248,\n",
       "        253, 253, 249, 255, 250, 255, 255, 250, 254, 255, 249, 247, 243,\n",
       "        163, 184],\n",
       "       [173, 143, 171, 219, 212, 199, 216, 221, 229, 223, 220, 215, 217,\n",
       "        219, 214, 215, 229, 225, 232, 233, 238, 248, 245, 241, 247, 230,\n",
       "        160, 183],\n",
       "       [159, 127, 159, 197, 190, 175, 185, 188, 185, 203, 179, 190, 202,\n",
       "        179, 168, 175, 169, 179, 181, 175, 174, 178, 179, 192, 217, 194,\n",
       "        139, 163],\n",
       "       [213, 152, 198, 233, 231, 225, 228, 226, 219, 219, 204, 222, 224,\n",
       "        192, 198, 212, 186, 187, 189, 182, 173, 168, 163, 176, 202, 192,\n",
       "        140, 163]], dtype=uint8)"
      ]
     },
     "execution_count": 6,
     "metadata": {},
     "output_type": "execute_result"
    }
   ],
   "source": [
    "# viewing pixel data of test image\n",
    "np.array(img)"
   ]
  },
  {
   "cell_type": "code",
   "execution_count": 7,
   "metadata": {},
   "outputs": [
    {
     "data": {
      "text/plain": [
       "array([[0.17572292, 0.13395918, 0.14971908, 0.19384681, 0.19069483,\n",
       "        0.19227082, 0.19148282, 0.19857478, 0.19778678, 0.19699879,\n",
       "        0.19699879, 0.19699879, 0.20015077, 0.20093876, 0.20093876,\n",
       "        0.20093876, 0.19778678, 0.19699879, 0.19148282, 0.1946348 ,\n",
       "        0.20093876, 0.20093876, 0.20093876, 0.19699879, 0.19936277,\n",
       "        0.18833084, 0.13868715, 0.13474717],\n",
       "       [0.17214603, 0.12406054, 0.14233303, 0.19234193, 0.18560996,\n",
       "        0.18464825, 0.18176312, 0.18849509, 0.18753338, 0.18176312,\n",
       "        0.17887799, 0.17887799, 0.18368654, 0.19041851, 0.19330364,\n",
       "        0.19041851, 0.18657167, 0.20195902, 0.19138022, 0.19522706,\n",
       "        0.21638467, 0.22311664, 0.21061441, 0.20292073, 0.20772928,\n",
       "        0.22407835, 0.17310774, 0.17022261],\n",
       "       [0.22338641, 0.14195491, 0.16396343, 0.22448684, 0.21788429,\n",
       "        0.21678386, 0.21128173, 0.21568343, 0.21128173, 0.1925745 ,\n",
       "        0.18707237, 0.18267066, 0.18487152, 0.19147407, 0.19587577,\n",
       "        0.19477535, 0.19147407, 0.19587577, 0.17166641, 0.15956172,\n",
       "        0.16946556, 0.17496768, 0.16946556, 0.17496768, 0.19037364,\n",
       "        0.20357875, 0.14965789, 0.14525619],\n",
       "       [0.20687768, 0.14464618, 0.1639884 , 0.21276444, 0.21192347,\n",
       "        0.21192347, 0.20771864, 0.21108251, 0.20687768, 0.20267284,\n",
       "        0.19846801, 0.19426318, 0.19258125, 0.19426318, 0.19510415,\n",
       "        0.19510415, 0.19342222, 0.20183188, 0.18753545, 0.17912579,\n",
       "        0.18080772, 0.18164869, 0.17660289, 0.17912579, 0.18753545,\n",
       "        0.17576193, 0.13203169, 0.12950879],\n",
       "       [0.18815739, 0.13240705, 0.15099049, 0.19744911, 0.19744911,\n",
       "        0.19744911, 0.19512618, 0.19744911, 0.19435187, 0.19744911,\n",
       "        0.19744911, 0.19744911, 0.19744911, 0.19744911, 0.19744911,\n",
       "        0.1966748 , 0.19590049, 0.19744911, 0.19744911, 0.19744911,\n",
       "        0.19744911, 0.19744911, 0.19435187, 0.19125463, 0.19202894,\n",
       "        0.18815739, 0.14247308, 0.14015015],\n",
       "       [0.18949554, 0.13435545, 0.15221773, 0.19803838, 0.19726176,\n",
       "        0.19803838, 0.19493189, 0.19726176, 0.19415527, 0.19415527,\n",
       "        0.19648513, 0.19803838, 0.19803838, 0.19803838, 0.19803838,\n",
       "        0.19803838, 0.19803838, 0.19570851, 0.19726176, 0.19726176,\n",
       "        0.19648513, 0.19570851, 0.19726176, 0.19803838, 0.19803838,\n",
       "        0.18561244, 0.13280221, 0.12969572],\n",
       "       [0.18760327, 0.12481044, 0.15349358, 0.19768113, 0.19690591,\n",
       "        0.19458025, 0.19613069, 0.19768113, 0.19690591, 0.19768113,\n",
       "        0.19768113, 0.18682805, 0.19768113, 0.19768113, 0.19768113,\n",
       "        0.19613069, 0.19768113, 0.19768113, 0.19768113, 0.19768113,\n",
       "        0.19768113, 0.19768113, 0.19768113, 0.19768113, 0.19768113,\n",
       "        0.19070415, 0.13566352, 0.13566352],\n",
       "       [0.18664946, 0.13065462, 0.1532081 , 0.19831505, 0.19442652,\n",
       "        0.19364882, 0.19364882, 0.19831505, 0.19364882, 0.18742717,\n",
       "        0.19831505, 0.19831505, 0.19831505, 0.19831505, 0.19598193,\n",
       "        0.19831505, 0.1913157 , 0.19831505, 0.19831505, 0.19831505,\n",
       "        0.19831505, 0.19831505, 0.19831505, 0.19831505, 0.19831505,\n",
       "        0.19287111, 0.13609857, 0.13609857],\n",
       "       [0.1848633 , 0.12816153, 0.14835669, 0.19651435, 0.19729109,\n",
       "        0.19806783, 0.19806783, 0.19806783, 0.19806783, 0.19806783,\n",
       "        0.19806783, 0.19185393, 0.18874699, 0.19806783, 0.18952372,\n",
       "        0.19806783, 0.19806783, 0.19806783, 0.19806783, 0.19806783,\n",
       "        0.19806783, 0.19806783, 0.19806783, 0.19806783, 0.19806783,\n",
       "        0.19340741, 0.13670564, 0.1359289 ],\n",
       "       [0.18215806, 0.12479765, 0.14650159, 0.19766088, 0.19766088,\n",
       "        0.19766088, 0.19766088, 0.19766088, 0.19766088, 0.19766088,\n",
       "        0.19766088, 0.19766088, 0.19766088, 0.19688574, 0.19068461,\n",
       "        0.19766088, 0.19378517, 0.19766088, 0.19766088, 0.19766088,\n",
       "        0.19766088, 0.19766088, 0.19766088, 0.19766088, 0.19766088,\n",
       "        0.19378517, 0.1371999 , 0.13564962],\n",
       "       [0.1846796 , 0.13373351, 0.15602242, 0.20298836, 0.20298836,\n",
       "        0.20219233, 0.1966201 , 0.20060026, 0.19900819, 0.20298836,\n",
       "        0.20298836, 0.1870677 , 0.18308754, 0.12577318, 0.16239069,\n",
       "        0.20139629, 0.20060026, 0.20298836, 0.20298836, 0.20298836,\n",
       "        0.20298836, 0.20298836, 0.20298836, 0.20298836, 0.20298836,\n",
       "        0.19821216, 0.14010177, 0.13930574],\n",
       "       [0.1915825 , 0.14305942, 0.16815757, 0.21333423, 0.20998781,\n",
       "        0.2091512 , 0.21249762, 0.21333423, 0.21333423, 0.20998781,\n",
       "        0.15142547, 0.11294165, 0.12967375, 0.04935968, 0.11294165,\n",
       "        0.19660213, 0.21333423, 0.21333423, 0.21333423, 0.21333423,\n",
       "        0.21333423, 0.21333423, 0.21333423, 0.21333423, 0.21333423,\n",
       "        0.20580478, 0.14556924, 0.14640584],\n",
       "       [0.19444064, 0.14195887, 0.171211  , 0.21939098, 0.2150892 ,\n",
       "        0.21939098, 0.21939098, 0.21939098, 0.20218385, 0.1454003 ,\n",
       "        0.09119782, 0.10582389, 0.14626066, 0.04904034, 0.1015221 ,\n",
       "        0.20132349, 0.21078742, 0.21939098, 0.21939098, 0.21939098,\n",
       "        0.21939098, 0.21939098, 0.21939098, 0.21939098, 0.21939098,\n",
       "        0.2090667 , 0.14884173, 0.14970208],\n",
       "       [0.19253413, 0.13776887, 0.17028574, 0.21820535, 0.21563822,\n",
       "        0.21820535, 0.21820535, 0.19937979, 0.16001725, 0.08385931,\n",
       "        0.10953053, 0.1891113 , 0.17884281, 0.04620819, 0.11295336,\n",
       "        0.21820535, 0.20964827, 0.21820535, 0.21820535, 0.21820535,\n",
       "        0.21820535, 0.21820535, 0.21820535, 0.21820535, 0.21820535,\n",
       "        0.20622545, 0.14632594, 0.14889306],\n",
       "       [0.20260562, 0.12566678, 0.17012033, 0.20944463, 0.21799339,\n",
       "        0.21799339, 0.21371901, 0.18465323, 0.0606962 , 0.08634248,\n",
       "        0.20431537, 0.20773488, 0.17097521, 0.06240595, 0.12737653,\n",
       "        0.21371901, 0.21799339, 0.21628364, 0.21799339, 0.21799339,\n",
       "        0.21713852, 0.21713852, 0.21799339, 0.21799339, 0.21542876,\n",
       "        0.19833124, 0.1393448 , 0.14361918],\n",
       "       [0.20088655, 0.13591898, 0.17267695, 0.21712844, 0.21798328,\n",
       "        0.21798328, 0.21456393, 0.13335447, 0.05470953, 0.15130604,\n",
       "        0.21798328, 0.2162736 , 0.13677382, 0.01538705, 0.1222416 ,\n",
       "        0.21798328, 0.21798328, 0.21541877, 0.21798328, 0.21798328,\n",
       "        0.21541877, 0.21456393, 0.21712844, 0.21798328, 0.21798328,\n",
       "        0.19917688, 0.14019317, 0.14446735],\n",
       "       [0.19922092, 0.13594904, 0.16758498, 0.21803148, 0.21717645,\n",
       "        0.21375635, 0.19922092, 0.07353218, 0.07182213, 0.20435107,\n",
       "        0.21803148, 0.21803148, 0.12141361, 0.01624548, 0.15390457,\n",
       "        0.21803148, 0.20007594, 0.21803148, 0.21803148, 0.21803148,\n",
       "        0.21803148, 0.21803148, 0.2154664 , 0.21632143, 0.21803148,\n",
       "        0.20007594, 0.14193422, 0.14620934],\n",
       "       [0.19944436, 0.1295536 , 0.16279433, 0.21649088, 0.21393391,\n",
       "        0.21734321, 0.16279433, 0.04773027, 0.12529197, 0.21734321,\n",
       "        0.20967227, 0.20796762, 0.10142683, 0.03494538, 0.19177342,\n",
       "        0.21734321, 0.21734321, 0.21734321, 0.21563856, 0.21563856,\n",
       "        0.21734321, 0.21734321, 0.21649088, 0.21308158, 0.21393391,\n",
       "        0.20029668, 0.14319082, 0.14830478],\n",
       "       [0.19999382, 0.12880958, 0.16779143, 0.21609502, 0.21355273,\n",
       "        0.21609502, 0.1211827 , 0.04830359, 0.17202859, 0.21609502,\n",
       "        0.21609502, 0.20931557, 0.08304828, 0.04915102, 0.20253612,\n",
       "        0.21355273, 0.2127053 , 0.21609502, 0.21185786, 0.20931557,\n",
       "        0.21355273, 0.21609502, 0.21609502, 0.21609502, 0.21524759,\n",
       "        0.20084126, 0.14491078, 0.14999537],\n",
       "       [0.20475431, 0.13131922, 0.17624422, 0.22030527, 0.21598556,\n",
       "        0.22030527, 0.10194519, 0.044925  , 0.17019662, 0.20389037,\n",
       "        0.19957066, 0.15464566, 0.04319711, 0.05442836, 0.21166585,\n",
       "        0.22030527, 0.21512162, 0.22030527, 0.22030527, 0.22030527,\n",
       "        0.21857739, 0.21771345, 0.22030527, 0.22030527, 0.22030527,\n",
       "        0.20561826, 0.14946201, 0.15464566],\n",
       "       [0.21524498, 0.13498414, 0.182411  , 0.22892581, 0.22801375,\n",
       "        0.23074992, 0.13042387, 0.04013042, 0.13498414, 0.15687346,\n",
       "        0.11491893, 0.07205235, 0.03830631, 0.06658002, 0.18514717,\n",
       "        0.2271017 , 0.23257403, 0.2088606 , 0.22983786, 0.23257403,\n",
       "        0.23257403, 0.22892581, 0.23257403, 0.23257403, 0.23166197,\n",
       "        0.21798115, 0.15869757, 0.16508196],\n",
       "       [0.22698374, 0.14125598, 0.19191329, 0.24646733, 0.24841568,\n",
       "        0.24841568, 0.1821715 , 0.04286388, 0.10813389, 0.09254702,\n",
       "        0.05357985, 0.08572777, 0.14710105, 0.12177239, 0.11592732,\n",
       "        0.13638508, 0.15099777, 0.15976538, 0.20652598, 0.24646733,\n",
       "        0.24841568, 0.24451897, 0.24841568, 0.24841568, 0.24841568,\n",
       "        0.233803  , 0.17048135, 0.17730061],\n",
       "       [0.21391379, 0.1429247 , 0.18646468, 0.24136291, 0.24041639,\n",
       "        0.23946987, 0.20350206, 0.10979646, 0.09181256, 0.07193561,\n",
       "        0.07288213, 0.15428296, 0.22621857, 0.17983903, 0.10411733,\n",
       "        0.08991952, 0.10222429, 0.14197818, 0.20350206, 0.24136291,\n",
       "        0.24136291, 0.23852335, 0.24136291, 0.24136291, 0.23852335,\n",
       "        0.22243249, 0.15806904, 0.18362512],\n",
       "       [0.18631794, 0.12449046, 0.16041724, 0.21305414, 0.21305414,\n",
       "        0.21305414, 0.20302807, 0.15373319, 0.15122667, 0.15206217,\n",
       "        0.17044331, 0.20302807, 0.21305414, 0.20135705, 0.17211433,\n",
       "        0.16375926, 0.16960781, 0.18882446, 0.21305414, 0.21305414,\n",
       "        0.20971212, 0.20887661, 0.21305414, 0.21305414, 0.21305414,\n",
       "        0.20302807, 0.13869407, 0.15791072],\n",
       "       [0.17686908, 0.12756487, 0.1557387 , 0.19956467, 0.19956467,\n",
       "        0.19799946, 0.19956467, 0.19486903, 0.19956467, 0.18469515,\n",
       "        0.19956467, 0.19956467, 0.19408642, 0.19799946, 0.19799946,\n",
       "        0.19486903, 0.19956467, 0.19565164, 0.19956467, 0.19956467,\n",
       "        0.19565164, 0.19878206, 0.19956467, 0.19486903, 0.19330382,\n",
       "        0.19017339, 0.12756487, 0.14399961],\n",
       "       [0.15104021, 0.12484827, 0.14929408, 0.1912012 , 0.18508974,\n",
       "        0.1737399 , 0.188582  , 0.19294733, 0.19993184, 0.19469346,\n",
       "        0.19207426, 0.18770894, 0.18945507, 0.1912012 , 0.18683587,\n",
       "        0.18770894, 0.19993184, 0.19643958, 0.20255104, 0.2034241 ,\n",
       "        0.20778943, 0.21652008, 0.21390088, 0.21040862, 0.21564701,\n",
       "        0.20080491, 0.13969037, 0.15977086],\n",
       "       [0.16736555, 0.13368191, 0.16736555, 0.20736486, 0.19999657,\n",
       "        0.18420736, 0.1947335 , 0.19789134, 0.1947335 , 0.21368054,\n",
       "        0.18841782, 0.19999657, 0.21262793, 0.18841782, 0.17683907,\n",
       "        0.18420736, 0.17789168, 0.18841782, 0.19052304, 0.18420736,\n",
       "        0.18315475, 0.1873652 , 0.18841782, 0.20210179, 0.22841713,\n",
       "        0.20420702, 0.14631328, 0.171576  ],\n",
       "       [0.20263056, 0.14460021, 0.1883608 , 0.22165691, 0.21975427,\n",
       "        0.21404637, 0.21690032, 0.21499769, 0.20833847, 0.20833847,\n",
       "        0.19406871, 0.21119242, 0.21309505, 0.1826529 , 0.1883608 ,\n",
       "        0.20167925, 0.176945  , 0.17789632, 0.17979895, 0.17313973,\n",
       "        0.16457787, 0.15982129, 0.1550647 , 0.16743183, 0.19216607,\n",
       "        0.1826529 , 0.13318441, 0.1550647 ]])"
      ]
     },
     "execution_count": 7,
     "metadata": {},
     "output_type": "execute_result"
    }
   ],
   "source": [
    "# first we normalize the test image\n",
    "img_norm = tf.keras.utils.normalize(img)\n",
    "img_norm"
   ]
  },
  {
   "cell_type": "code",
   "execution_count": 8,
   "metadata": {},
   "outputs": [
    {
     "data": {
      "text/plain": [
       "array([[4.8029044e-01, 3.8641638e-03, 1.4623771e-05, 4.9362220e-03,\n",
       "        2.0762698e-05, 1.5860870e-06, 9.1048412e-02, 2.2296292e-04,\n",
       "        1.3919349e-06, 1.2249425e-04, 9.2949821e-03, 6.9892799e-08,\n",
       "        2.6659238e-01, 3.9342370e-02, 1.7433487e-03, 3.4271423e-05,\n",
       "        1.8828992e-02, 3.1389274e-02, 1.8915090e-07, 7.3680353e-06,\n",
       "        1.5940680e-03, 1.8796536e-05, 4.9754236e-02, 4.7612394e-04,\n",
       "        3.9765521e-04, 2.8255972e-06]], dtype=float32)"
      ]
     },
     "execution_count": 8,
     "metadata": {},
     "output_type": "execute_result"
    }
   ],
   "source": [
    "#after the image has been normalized, we predict the letter using the best traiend model\n",
    "# reshape \n",
    "img_norm_reshaped = img_norm.reshape(1, 28, 28, 1)\n",
    "predictions = final_model.predict(img_norm_reshaped)\n",
    "predictions"
   ]
  },
  {
   "cell_type": "code",
   "execution_count": 9,
   "metadata": {},
   "outputs": [
    {
     "data": {
      "text/plain": [
       "(1, 26)"
      ]
     },
     "execution_count": 9,
     "metadata": {},
     "output_type": "execute_result"
    }
   ],
   "source": [
    "# as we can notice we have an array of 26 numbers where each number is a probability likeliness of the image being that label\n",
    "predictions.shape"
   ]
  },
  {
   "cell_type": "code",
   "execution_count": 10,
   "metadata": {},
   "outputs": [],
   "source": [
    "labels = [\"a\", \"b\", \"c\", \"d\", \"e\", \"f\", \"g\", \"h\", \"i\", \"j\", \"k\", \"l\", \"m\", \"n\", 'o', \"p\", \"q\", 'r', 's', 't', 'u', 'v', 'w', 'x', 'y', 'z']"
   ]
  },
  {
   "cell_type": "code",
   "execution_count": 11,
   "metadata": {},
   "outputs": [
    {
     "data": {
      "text/plain": [
       "'a'"
      ]
     },
     "execution_count": 11,
     "metadata": {},
     "output_type": "execute_result"
    }
   ],
   "source": [
    "# getting the label of the prediction\n",
    "index = np.argmax(predictions)\n",
    "labels[index]"
   ]
  }
 ],
 "metadata": {
  "interpreter": {
   "hash": "fdcf1fbdf644d722c80604999e2543595bdfa6dd80752d3cf3eed1aa37af1d48"
  },
  "kernelspec": {
   "display_name": "Python 3",
   "language": "python",
   "name": "python3"
  },
  "language_info": {
   "codemirror_mode": {
    "name": "ipython",
    "version": 3
   },
   "file_extension": ".py",
   "mimetype": "text/x-python",
   "name": "python",
   "nbconvert_exporter": "python",
   "pygments_lexer": "ipython3",
   "version": "3.9.8"
  }
 },
 "nbformat": 4,
 "nbformat_minor": 4
}
